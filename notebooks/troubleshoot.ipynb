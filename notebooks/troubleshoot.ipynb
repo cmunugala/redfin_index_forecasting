{
 "cells": [
  {
   "cell_type": "code",
   "execution_count": 1,
   "metadata": {},
   "outputs": [
    {
     "name": "stdout",
     "output_type": "stream",
     "text": [
      "Intel MKL WARNING: Support of Intel(R) Streaming SIMD Extensions 4.2 (Intel(R) SSE4.2) enabled only processors has been deprecated. Intel oneAPI Math Kernel Library 2025.0 will require Intel(R) Advanced Vector Extensions (Intel(R) AVX) instructions.\n",
      "Intel MKL WARNING: Support of Intel(R) Streaming SIMD Extensions 4.2 (Intel(R) SSE4.2) enabled only processors has been deprecated. Intel oneAPI Math Kernel Library 2025.0 will require Intel(R) Advanced Vector Extensions (Intel(R) AVX) instructions.\n"
     ]
    }
   ],
   "source": [
    "import pandas as pd\n",
    "import numpy as np\n",
    "from statsmodels.tsa.api import VAR\n",
    "import os\n",
    "from datetime import timedelta,datetime\n",
    "from dateutil.relativedelta import relativedelta\n",
    "import matplotlib.pyplot as plt"
   ]
  },
  {
   "cell_type": "code",
   "execution_count": 4,
   "metadata": {},
   "outputs": [],
   "source": [
    "script_dir = '../scripts'"
   ]
  },
  {
   "cell_type": "code",
   "execution_count": 5,
   "metadata": {},
   "outputs": [],
   "source": [
    "def  process_rhpi():\n",
    "\n",
    "    #read in rhpi data\n",
    "\n",
    "    rhpi = pd.read_csv(f'{script_dir}/../data/rhpi.csv',encoding=\"utf-16\",sep='\\t')\n",
    "\n",
    "    #subset data for los angeles\n",
    "\n",
    "    la_rhpi = rhpi[rhpi['Region Name'] == \"Los Angeles, CA\"][['Month, Year of Date','Redfin HPI MoM']]\n",
    "\n",
    "    #convert types, rename, and sort index\n",
    "    la_rhpi['Month, Year of Date'] = pd.to_datetime(la_rhpi['Month, Year of Date'])\n",
    "    la_rhpi.rename(columns={'Month, Year of Date':'Date'},inplace=True)\n",
    "    la_rhpi.sort_values('Date',inplace=True)\n",
    "    la_rhpi.set_index('Date',inplace=True)\n",
    "\n",
    "    #fix formatting\n",
    "    la_rhpi['Redfin HPI MoM'] = la_rhpi['Redfin HPI MoM'].apply(lambda x:float(str(x).replace('%','')))\n",
    "\n",
    "    #make time series just the RHPI month over month\n",
    "    la_rhpi = la_rhpi['Redfin HPI MoM']\n",
    "\n",
    "    la_rhpi.dropna(inplace=True)\n",
    "\n",
    "    original_la_rhpi = la_rhpi.copy()\n",
    "    #get last date in time series\n",
    "    last_date = la_rhpi.index[-1].strftime('%Y-%m-%d')\n",
    "\n",
    "\n",
    "    return la_rhpi,original_la_rhpi,last_date"
   ]
  },
  {
   "cell_type": "code",
   "execution_count": 54,
   "metadata": {},
   "outputs": [
    {
     "data": {
      "text/html": [
       "<div>\n",
       "<style scoped>\n",
       "    .dataframe tbody tr th:only-of-type {\n",
       "        vertical-align: middle;\n",
       "    }\n",
       "\n",
       "    .dataframe tbody tr th {\n",
       "        vertical-align: top;\n",
       "    }\n",
       "\n",
       "    .dataframe thead th {\n",
       "        text-align: right;\n",
       "    }\n",
       "</style>\n",
       "<table border=\"1\" class=\"dataframe\">\n",
       "  <thead>\n",
       "    <tr style=\"text-align: right;\">\n",
       "      <th></th>\n",
       "      <th>Month, Year of Date</th>\n",
       "      <th>Redfin HPI MoM</th>\n",
       "    </tr>\n",
       "  </thead>\n",
       "  <tbody>\n",
       "    <tr>\n",
       "      <th>0</th>\n",
       "      <td>August 2024</td>\n",
       "      <td>-0.09%</td>\n",
       "    </tr>\n",
       "    <tr>\n",
       "      <th>1</th>\n",
       "      <td>July 2024</td>\n",
       "      <td>0.31%</td>\n",
       "    </tr>\n",
       "    <tr>\n",
       "      <th>2</th>\n",
       "      <td>June 2024</td>\n",
       "      <td>0.55%</td>\n",
       "    </tr>\n",
       "    <tr>\n",
       "      <th>3</th>\n",
       "      <td>May 2024</td>\n",
       "      <td>0.25%</td>\n",
       "    </tr>\n",
       "    <tr>\n",
       "      <th>4</th>\n",
       "      <td>April 2024</td>\n",
       "      <td>0.76%</td>\n",
       "    </tr>\n",
       "    <tr>\n",
       "      <th>...</th>\n",
       "      <td>...</td>\n",
       "      <td>...</td>\n",
       "    </tr>\n",
       "    <tr>\n",
       "      <th>147</th>\n",
       "      <td>May 2012</td>\n",
       "      <td>1.57%</td>\n",
       "    </tr>\n",
       "    <tr>\n",
       "      <th>148</th>\n",
       "      <td>April 2012</td>\n",
       "      <td>1.72%</td>\n",
       "    </tr>\n",
       "    <tr>\n",
       "      <th>149</th>\n",
       "      <td>March 2012</td>\n",
       "      <td>NaN</td>\n",
       "    </tr>\n",
       "    <tr>\n",
       "      <th>150</th>\n",
       "      <td>February 2012</td>\n",
       "      <td>NaN</td>\n",
       "    </tr>\n",
       "    <tr>\n",
       "      <th>151</th>\n",
       "      <td>January 2012</td>\n",
       "      <td>NaN</td>\n",
       "    </tr>\n",
       "  </tbody>\n",
       "</table>\n",
       "<p>152 rows × 2 columns</p>\n",
       "</div>"
      ],
      "text/plain": [
       "    Month, Year of Date Redfin HPI MoM\n",
       "0           August 2024         -0.09%\n",
       "1             July 2024          0.31%\n",
       "2             June 2024          0.55%\n",
       "3              May 2024          0.25%\n",
       "4            April 2024          0.76%\n",
       "..                  ...            ...\n",
       "147            May 2012          1.57%\n",
       "148          April 2012          1.72%\n",
       "149          March 2012            NaN\n",
       "150       February 2012            NaN\n",
       "151        January 2012            NaN\n",
       "\n",
       "[152 rows x 2 columns]"
      ]
     },
     "execution_count": 54,
     "metadata": {},
     "output_type": "execute_result"
    }
   ],
   "source": [
    "la_rhpi"
   ]
  },
  {
   "cell_type": "code",
   "execution_count": 53,
   "metadata": {},
   "outputs": [],
   "source": [
    "rhpi = pd.read_csv(f'{script_dir}/../data/rhpi.csv',encoding=\"utf-16\",sep='\\t')\n",
    "\n",
    "#subset data for los angeles\n",
    "\n",
    "la_rhpi = rhpi[rhpi['Region Name'] == \"Los Angeles, CA\"][['Month, Year of Date','Redfin HPI MoM']]"
   ]
  },
  {
   "cell_type": "code",
   "execution_count": 35,
   "metadata": {},
   "outputs": [],
   "source": [
    "def process_redfin_city_data(last_date):\n",
    "\n",
    "    #import housing related information by city\n",
    "\n",
    "    info = pd.read_csv(f'{script_dir}/../data/city_market_tracker.tsv000.gz',sep='\\t',compression='gzip')\n",
    "\n",
    "    #take subset for los angeles and take mean of variables across different periods and cities to get one mean per period for LA\n",
    "    la_info = info[(info['parent_metro_region'] == 'Los Angeles, CA') & (info['property_type'] == 'Single Family Residential')]\n",
    "    features = la_info.groupby(['period_begin'])[['median_sale_price_mom','median_list_price_mom','median_ppsf_mom','median_list_ppsf_mom','homes_sold_mom','new_listings_mom','inventory_mom','sold_above_list_mom','price_drops_mom','median_dom_mom','months_of_supply_mom','avg_sale_to_list_mom']].mean()\n",
    "\n",
    "    #make index datetime type and set date to match rhpi\n",
    "    features.index = pd.to_datetime(features.index)\n",
    "    features = features[(features.index >= '2012-04-01') & (features.index <= last_date)]\n",
    "\n",
    "    return features"
   ]
  },
  {
   "cell_type": "code",
   "execution_count": 9,
   "metadata": {},
   "outputs": [],
   "source": [
    "def process_mortage_data(last_date):\n",
    "\n",
    "    mortgage = pd.read_csv(f'{script_dir}/../data/MORTGAGE30US.csv')\n",
    "\n",
    "    #set date in datetime format as index\n",
    "    mortgage['DATE'] = pd.to_datetime(mortgage['DATE'])\n",
    "    mortgage.set_index('DATE', inplace=True)\n",
    "\n",
    "    #fill missing values that are '.' values with previous value\n",
    "    mortgage = mortgage.replace('.',pd.NA).ffill()\n",
    "\n",
    "    mortgage['MORTGAGE30US'] = mortgage['MORTGAGE30US'].apply(lambda x:float(x))\n",
    "\n",
    "    #convert weekly data to monthly data and make every datetime the beginning of the month\n",
    "    mortgage = mortgage.resample('M').mean()\n",
    "    mortgage.index = mortgage.index.to_period('M').to_timestamp('D')\n",
    "\n",
    "    #select dates to match rhpi data\n",
    "    mortgage = mortgage[(mortgage.index >= '2012-04-01') & (mortgage.index <= last_date)]\n",
    "\n",
    "    mortgage = mortgage['MORTGAGE30US']\n",
    "\n",
    "    return mortgage\n"
   ]
  },
  {
   "cell_type": "code",
   "execution_count": 10,
   "metadata": {},
   "outputs": [],
   "source": [
    "def process_unemployment(last_date):\n",
    "\n",
    "    #read in unemployment data\n",
    "    unemp = pd.read_csv(f'{script_dir}/../data/LOSA106UR.csv')\n",
    "    unemp.rename(columns={'LOSA106UR':'unemployment rate'},inplace=True)\n",
    "\n",
    "    #change date variable to datetime and make it the index\n",
    "    unemp['DATE'] = pd.to_datetime(unemp['DATE'])\n",
    "    unemp.set_index('DATE',inplace=True)\n",
    "\n",
    "    #subset series to match la rhpi data\n",
    "    unemp = unemp[(unemp.index >= '2012-04-01') & (unemp.index <= last_date)]\n",
    "    unemp = unemp['unemployment rate']\n",
    "\n",
    "    return unemp"
   ]
  },
  {
   "cell_type": "code",
   "execution_count": 11,
   "metadata": {},
   "outputs": [],
   "source": [
    "def normalize_series(series):\n",
    "\n",
    "    mean, std = series.mean(),series.std()\n",
    "    series = (series - mean)/std\n",
    "\n",
    "    return series"
   ]
  },
  {
   "cell_type": "code",
   "execution_count": 12,
   "metadata": {},
   "outputs": [
    {
     "name": "stderr",
     "output_type": "stream",
     "text": [
      "/var/folders/2q/pjmqzbkj145d3k9gnr_4bmcw0000gn/T/ipykernel_27201/4243727859.py:12: UserWarning: Could not infer format, so each element will be parsed individually, falling back to `dateutil`. To ensure parsing is consistent and as-expected, please specify a format.\n",
      "  la_rhpi['Month, Year of Date'] = pd.to_datetime(la_rhpi['Month, Year of Date'])\n"
     ]
    }
   ],
   "source": [
    "la_rhpi,original_la_rhpi,last_date = process_rhpi()"
   ]
  },
  {
   "cell_type": "code",
   "execution_count": 36,
   "metadata": {},
   "outputs": [],
   "source": [
    "features = process_redfin_city_data(last_date)"
   ]
  },
  {
   "cell_type": "code",
   "execution_count": 52,
   "metadata": {},
   "outputs": [
    {
     "data": {
      "text/plain": [
       "Date\n",
       "2012-04-01    1.72\n",
       "2012-05-01    1.57\n",
       "2012-06-01    1.89\n",
       "2012-07-01    0.87\n",
       "2012-08-01    1.48\n",
       "              ... \n",
       "2024-04-01    0.76\n",
       "2024-05-01    0.25\n",
       "2024-06-01    0.55\n",
       "2024-07-01    0.31\n",
       "2024-08-01   -0.09\n",
       "Name: Redfin HPI MoM, Length: 149, dtype: float64"
      ]
     },
     "execution_count": 52,
     "metadata": {},
     "output_type": "execute_result"
    }
   ],
   "source": [
    "la_rhpi"
   ]
  },
  {
   "cell_type": "markdown",
   "metadata": {},
   "source": [
    "#### historical"
   ]
  },
  {
   "cell_type": "code",
   "execution_count": 47,
   "metadata": {},
   "outputs": [],
   "source": [
    "output = pd.read_csv(f'{script_dir}/../output_data/tableau.csv')\n",
    "output.reset_index(inplace=True)\n",
    "output.drop_duplicates('Date',inplace=True)\n",
    "output['Date'] = output['Date'].apply(lambda x:pd.to_datetime(x))"
   ]
  },
  {
   "cell_type": "code",
   "execution_count": 48,
   "metadata": {},
   "outputs": [],
   "source": [
    "current_metrics = pd.read_csv(f'{script_dir}/../output_data/model_metrics.csv')\n",
    "current_metrics = current_metrics[['Pred Date','Forecast Pred']]\n",
    "current_metrics.rename(columns={'Pred Date':'Date'},inplace=True)\n",
    "current_metrics['Date'] = pd.to_datetime(current_metrics['Date'],format='%Y-%m-%d')"
   ]
  },
  {
   "cell_type": "code",
   "execution_count": 51,
   "metadata": {},
   "outputs": [
    {
     "data": {
      "text/html": [
       "<div>\n",
       "<style scoped>\n",
       "    .dataframe tbody tr th:only-of-type {\n",
       "        vertical-align: middle;\n",
       "    }\n",
       "\n",
       "    .dataframe tbody tr th {\n",
       "        vertical-align: top;\n",
       "    }\n",
       "\n",
       "    .dataframe thead th {\n",
       "        text-align: right;\n",
       "    }\n",
       "</style>\n",
       "<table border=\"1\" class=\"dataframe\">\n",
       "  <thead>\n",
       "    <tr style=\"text-align: right;\">\n",
       "      <th></th>\n",
       "      <th>index</th>\n",
       "      <th>Date</th>\n",
       "      <th>Redfin HPI MoM</th>\n",
       "      <th>Type</th>\n",
       "    </tr>\n",
       "  </thead>\n",
       "  <tbody>\n",
       "    <tr>\n",
       "      <th>0</th>\n",
       "      <td>0</td>\n",
       "      <td>2012-04-01</td>\n",
       "      <td>1.720000</td>\n",
       "      <td>Series</td>\n",
       "    </tr>\n",
       "    <tr>\n",
       "      <th>1</th>\n",
       "      <td>1</td>\n",
       "      <td>2012-05-01</td>\n",
       "      <td>1.570000</td>\n",
       "      <td>Series</td>\n",
       "    </tr>\n",
       "    <tr>\n",
       "      <th>2</th>\n",
       "      <td>2</td>\n",
       "      <td>2012-06-01</td>\n",
       "      <td>1.890000</td>\n",
       "      <td>Series</td>\n",
       "    </tr>\n",
       "    <tr>\n",
       "      <th>3</th>\n",
       "      <td>3</td>\n",
       "      <td>2012-07-01</td>\n",
       "      <td>0.870000</td>\n",
       "      <td>Series</td>\n",
       "    </tr>\n",
       "    <tr>\n",
       "      <th>4</th>\n",
       "      <td>4</td>\n",
       "      <td>2012-08-01</td>\n",
       "      <td>1.480000</td>\n",
       "      <td>Series</td>\n",
       "    </tr>\n",
       "    <tr>\n",
       "      <th>...</th>\n",
       "      <td>...</td>\n",
       "      <td>...</td>\n",
       "      <td>...</td>\n",
       "      <td>...</td>\n",
       "    </tr>\n",
       "    <tr>\n",
       "      <th>147</th>\n",
       "      <td>147</td>\n",
       "      <td>2024-07-01</td>\n",
       "      <td>0.310000</td>\n",
       "      <td>Series</td>\n",
       "    </tr>\n",
       "    <tr>\n",
       "      <th>148</th>\n",
       "      <td>148</td>\n",
       "      <td>2024-08-01</td>\n",
       "      <td>-0.090000</td>\n",
       "      <td>Series</td>\n",
       "    </tr>\n",
       "    <tr>\n",
       "      <th>150</th>\n",
       "      <td>150</td>\n",
       "      <td>2024-09-01</td>\n",
       "      <td>0.768974</td>\n",
       "      <td>Forecast</td>\n",
       "    </tr>\n",
       "    <tr>\n",
       "      <th>151</th>\n",
       "      <td>151</td>\n",
       "      <td>2024-10-01</td>\n",
       "      <td>0.746742</td>\n",
       "      <td>Forecast</td>\n",
       "    </tr>\n",
       "    <tr>\n",
       "      <th>152</th>\n",
       "      <td>152</td>\n",
       "      <td>2024-11-01</td>\n",
       "      <td>1.033219</td>\n",
       "      <td>Forecast</td>\n",
       "    </tr>\n",
       "  </tbody>\n",
       "</table>\n",
       "<p>152 rows × 4 columns</p>\n",
       "</div>"
      ],
      "text/plain": [
       "     index       Date  Redfin HPI MoM      Type\n",
       "0        0 2012-04-01        1.720000    Series\n",
       "1        1 2012-05-01        1.570000    Series\n",
       "2        2 2012-06-01        1.890000    Series\n",
       "3        3 2012-07-01        0.870000    Series\n",
       "4        4 2012-08-01        1.480000    Series\n",
       "..     ...        ...             ...       ...\n",
       "147    147 2024-07-01        0.310000    Series\n",
       "148    148 2024-08-01       -0.090000    Series\n",
       "150    150 2024-09-01        0.768974  Forecast\n",
       "151    151 2024-10-01        0.746742  Forecast\n",
       "152    152 2024-11-01        1.033219  Forecast\n",
       "\n",
       "[152 rows x 4 columns]"
      ]
     },
     "execution_count": 51,
     "metadata": {},
     "output_type": "execute_result"
    }
   ],
   "source": [
    "output"
   ]
  },
  {
   "cell_type": "code",
   "execution_count": 55,
   "metadata": {},
   "outputs": [
    {
     "data": {
      "text/html": [
       "<div>\n",
       "<style scoped>\n",
       "    .dataframe tbody tr th:only-of-type {\n",
       "        vertical-align: middle;\n",
       "    }\n",
       "\n",
       "    .dataframe tbody tr th {\n",
       "        vertical-align: top;\n",
       "    }\n",
       "\n",
       "    .dataframe thead th {\n",
       "        text-align: right;\n",
       "    }\n",
       "</style>\n",
       "<table border=\"1\" class=\"dataframe\">\n",
       "  <thead>\n",
       "    <tr style=\"text-align: right;\">\n",
       "      <th></th>\n",
       "      <th>Date</th>\n",
       "      <th>Forecast Pred</th>\n",
       "    </tr>\n",
       "  </thead>\n",
       "  <tbody>\n",
       "    <tr>\n",
       "      <th>0</th>\n",
       "      <td>2024-06-01</td>\n",
       "      <td>0.583043</td>\n",
       "    </tr>\n",
       "    <tr>\n",
       "      <th>1</th>\n",
       "      <td>2024-07-01</td>\n",
       "      <td>0.953691</td>\n",
       "    </tr>\n",
       "    <tr>\n",
       "      <th>2</th>\n",
       "      <td>2024-08-01</td>\n",
       "      <td>0.056024</td>\n",
       "    </tr>\n",
       "    <tr>\n",
       "      <th>3</th>\n",
       "      <td>2024-09-01</td>\n",
       "      <td>0.768974</td>\n",
       "    </tr>\n",
       "  </tbody>\n",
       "</table>\n",
       "</div>"
      ],
      "text/plain": [
       "        Date  Forecast Pred\n",
       "0 2024-06-01       0.583043\n",
       "1 2024-07-01       0.953691\n",
       "2 2024-08-01       0.056024\n",
       "3 2024-09-01       0.768974"
      ]
     },
     "execution_count": 55,
     "metadata": {},
     "output_type": "execute_result"
    }
   ],
   "source": [
    "current_metrics"
   ]
  },
  {
   "cell_type": "code",
   "execution_count": 49,
   "metadata": {},
   "outputs": [
    {
     "data": {
      "text/html": [
       "<div>\n",
       "<style scoped>\n",
       "    .dataframe tbody tr th:only-of-type {\n",
       "        vertical-align: middle;\n",
       "    }\n",
       "\n",
       "    .dataframe tbody tr th {\n",
       "        vertical-align: top;\n",
       "    }\n",
       "\n",
       "    .dataframe thead th {\n",
       "        text-align: right;\n",
       "    }\n",
       "</style>\n",
       "<table border=\"1\" class=\"dataframe\">\n",
       "  <thead>\n",
       "    <tr style=\"text-align: right;\">\n",
       "      <th></th>\n",
       "      <th>Date</th>\n",
       "      <th>Forecast Pred</th>\n",
       "      <th>Redfin HPI MoM</th>\n",
       "    </tr>\n",
       "  </thead>\n",
       "  <tbody>\n",
       "    <tr>\n",
       "      <th>0</th>\n",
       "      <td>2024-06-01</td>\n",
       "      <td>0.583043</td>\n",
       "      <td>0.550000</td>\n",
       "    </tr>\n",
       "    <tr>\n",
       "      <th>1</th>\n",
       "      <td>2024-07-01</td>\n",
       "      <td>0.953691</td>\n",
       "      <td>0.310000</td>\n",
       "    </tr>\n",
       "    <tr>\n",
       "      <th>2</th>\n",
       "      <td>2024-08-01</td>\n",
       "      <td>0.056024</td>\n",
       "      <td>-0.090000</td>\n",
       "    </tr>\n",
       "    <tr>\n",
       "      <th>3</th>\n",
       "      <td>2024-09-01</td>\n",
       "      <td>0.768974</td>\n",
       "      <td>0.768974</td>\n",
       "    </tr>\n",
       "  </tbody>\n",
       "</table>\n",
       "</div>"
      ],
      "text/plain": [
       "        Date  Forecast Pred  Redfin HPI MoM\n",
       "0 2024-06-01       0.583043        0.550000\n",
       "1 2024-07-01       0.953691        0.310000\n",
       "2 2024-08-01       0.056024       -0.090000\n",
       "3 2024-09-01       0.768974        0.768974"
      ]
     },
     "execution_count": 49,
     "metadata": {},
     "output_type": "execute_result"
    }
   ],
   "source": [
    "current_metrics.merge(output[['Date','Redfin HPI MoM']],on='Date',how='inner')"
   ]
  },
  {
   "cell_type": "code",
   "execution_count": null,
   "metadata": {},
   "outputs": [],
   "source": []
  }
 ],
 "metadata": {
  "kernelspec": {
   "display_name": "datasci",
   "language": "python",
   "name": "python3"
  },
  "language_info": {
   "codemirror_mode": {
    "name": "ipython",
    "version": 3
   },
   "file_extension": ".py",
   "mimetype": "text/x-python",
   "name": "python",
   "nbconvert_exporter": "python",
   "pygments_lexer": "ipython3",
   "version": "3.9.18"
  }
 },
 "nbformat": 4,
 "nbformat_minor": 2
}
