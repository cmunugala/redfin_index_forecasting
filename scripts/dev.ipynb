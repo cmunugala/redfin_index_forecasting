{
 "cells": [
  {
   "cell_type": "code",
   "execution_count": 1,
   "metadata": {},
   "outputs": [],
   "source": [
    "import os\n",
    "import glob\n",
    "import pandas as pd"
   ]
  },
  {
   "cell_type": "code",
   "execution_count": 6,
   "metadata": {},
   "outputs": [],
   "source": [
    "script_dir = os.path.dirname(os.path.realpath('dev.ipynb'))\n"
   ]
  },
  {
   "cell_type": "code",
   "execution_count": 11,
   "metadata": {},
   "outputs": [
    {
     "data": {
      "text/plain": [
       "'2024-07-01'"
      ]
     },
     "execution_count": 11,
     "metadata": {},
     "output_type": "execute_result"
    }
   ],
   "source": [
    "last_date"
   ]
  },
  {
   "cell_type": "code",
   "execution_count": 12,
   "metadata": {},
   "outputs": [],
   "source": [
    "def normalize_series(series):\n",
    "\n",
    "    mean, std = series.mean(),series.std()\n",
    "    series = (series - mean)/std\n",
    "\n",
    "    return series\n"
   ]
  },
  {
   "cell_type": "code",
   "execution_count": 17,
   "metadata": {},
   "outputs": [
    {
     "data": {
      "text/plain": [
       "[-1.34164, -0.44721, 0.0, 0.44721, 1.34164]"
      ]
     },
     "execution_count": 17,
     "metadata": {},
     "output_type": "execute_result"
    }
   ],
   "source": [
    "[round(x,5) for x in normalize_series(pd.Series([-3, -1, 0, 1, 3])).to_list()]"
   ]
  },
  {
   "cell_type": "code",
   "execution_count": 15,
   "metadata": {},
   "outputs": [],
   "source": [
    "script_dir = os.path.dirname(os.path.realpath('dev.ipynb'))"
   ]
  },
  {
   "cell_type": "code",
   "execution_count": 35,
   "metadata": {},
   "outputs": [],
   "source": [
    "output = pd.read_csv(f'{script_dir}/../output_data/tableau.csv')"
   ]
  },
  {
   "cell_type": "code",
   "execution_count": 36,
   "metadata": {},
   "outputs": [
    {
     "data": {
      "text/html": [
       "<div>\n",
       "<style scoped>\n",
       "    .dataframe tbody tr th:only-of-type {\n",
       "        vertical-align: middle;\n",
       "    }\n",
       "\n",
       "    .dataframe tbody tr th {\n",
       "        vertical-align: top;\n",
       "    }\n",
       "\n",
       "    .dataframe thead th {\n",
       "        text-align: right;\n",
       "    }\n",
       "</style>\n",
       "<table border=\"1\" class=\"dataframe\">\n",
       "  <thead>\n",
       "    <tr style=\"text-align: right;\">\n",
       "      <th></th>\n",
       "      <th>Date</th>\n",
       "      <th>Redfin HPI MoM</th>\n",
       "      <th>Type</th>\n",
       "    </tr>\n",
       "  </thead>\n",
       "  <tbody>\n",
       "    <tr>\n",
       "      <th>0</th>\n",
       "      <td>2012-04-01</td>\n",
       "      <td>1.730000</td>\n",
       "      <td>Series</td>\n",
       "    </tr>\n",
       "    <tr>\n",
       "      <th>1</th>\n",
       "      <td>2012-05-01</td>\n",
       "      <td>1.560000</td>\n",
       "      <td>Series</td>\n",
       "    </tr>\n",
       "    <tr>\n",
       "      <th>2</th>\n",
       "      <td>2012-06-01</td>\n",
       "      <td>1.930000</td>\n",
       "      <td>Series</td>\n",
       "    </tr>\n",
       "    <tr>\n",
       "      <th>3</th>\n",
       "      <td>2012-07-01</td>\n",
       "      <td>0.880000</td>\n",
       "      <td>Series</td>\n",
       "    </tr>\n",
       "    <tr>\n",
       "      <th>4</th>\n",
       "      <td>2012-08-01</td>\n",
       "      <td>1.470000</td>\n",
       "      <td>Series</td>\n",
       "    </tr>\n",
       "    <tr>\n",
       "      <th>...</th>\n",
       "      <td>...</td>\n",
       "      <td>...</td>\n",
       "      <td>...</td>\n",
       "    </tr>\n",
       "    <tr>\n",
       "      <th>147</th>\n",
       "      <td>2024-07-01</td>\n",
       "      <td>0.380000</td>\n",
       "      <td>Series</td>\n",
       "    </tr>\n",
       "    <tr>\n",
       "      <th>148</th>\n",
       "      <td>2024-07-01</td>\n",
       "      <td>0.380000</td>\n",
       "      <td>Forecast</td>\n",
       "    </tr>\n",
       "    <tr>\n",
       "      <th>149</th>\n",
       "      <td>2024-08-01</td>\n",
       "      <td>0.056024</td>\n",
       "      <td>Forecast</td>\n",
       "    </tr>\n",
       "    <tr>\n",
       "      <th>150</th>\n",
       "      <td>2024-09-01</td>\n",
       "      <td>0.541787</td>\n",
       "      <td>Forecast</td>\n",
       "    </tr>\n",
       "    <tr>\n",
       "      <th>151</th>\n",
       "      <td>2024-10-01</td>\n",
       "      <td>0.458569</td>\n",
       "      <td>Forecast</td>\n",
       "    </tr>\n",
       "  </tbody>\n",
       "</table>\n",
       "<p>152 rows × 3 columns</p>\n",
       "</div>"
      ],
      "text/plain": [
       "           Date  Redfin HPI MoM      Type\n",
       "0    2012-04-01        1.730000    Series\n",
       "1    2012-05-01        1.560000    Series\n",
       "2    2012-06-01        1.930000    Series\n",
       "3    2012-07-01        0.880000    Series\n",
       "4    2012-08-01        1.470000    Series\n",
       "..          ...             ...       ...\n",
       "147  2024-07-01        0.380000    Series\n",
       "148  2024-07-01        0.380000  Forecast\n",
       "149  2024-08-01        0.056024  Forecast\n",
       "150  2024-09-01        0.541787  Forecast\n",
       "151  2024-10-01        0.458569  Forecast\n",
       "\n",
       "[152 rows x 3 columns]"
      ]
     },
     "execution_count": 36,
     "metadata": {},
     "output_type": "execute_result"
    }
   ],
   "source": [
    "output"
   ]
  },
  {
   "cell_type": "code",
   "execution_count": 37,
   "metadata": {},
   "outputs": [],
   "source": [
    "current_metrics = pd.read_csv(f'{script_dir}/../output_data/model_metrics.csv')\n"
   ]
  },
  {
   "cell_type": "code",
   "execution_count": 38,
   "metadata": {},
   "outputs": [
    {
     "data": {
      "text/html": [
       "<div>\n",
       "<style scoped>\n",
       "    .dataframe tbody tr th:only-of-type {\n",
       "        vertical-align: middle;\n",
       "    }\n",
       "\n",
       "    .dataframe tbody tr th {\n",
       "        vertical-align: top;\n",
       "    }\n",
       "\n",
       "    .dataframe thead th {\n",
       "        text-align: right;\n",
       "    }\n",
       "</style>\n",
       "<table border=\"1\" class=\"dataframe\">\n",
       "  <thead>\n",
       "    <tr style=\"text-align: right;\">\n",
       "      <th></th>\n",
       "      <th>Date</th>\n",
       "      <th>Pred Date</th>\n",
       "      <th>Forecast Pred</th>\n",
       "      <th>MAE</th>\n",
       "    </tr>\n",
       "  </thead>\n",
       "  <tbody>\n",
       "    <tr>\n",
       "      <th>0</th>\n",
       "      <td>20240701</td>\n",
       "      <td>2024-06-01</td>\n",
       "      <td>0.583043</td>\n",
       "      <td>0.584990</td>\n",
       "    </tr>\n",
       "    <tr>\n",
       "      <th>1</th>\n",
       "      <td>20240801</td>\n",
       "      <td>2024-07-01</td>\n",
       "      <td>0.953691</td>\n",
       "      <td>0.622643</td>\n",
       "    </tr>\n",
       "    <tr>\n",
       "      <th>2</th>\n",
       "      <td>20240901</td>\n",
       "      <td>2024-08-01</td>\n",
       "      <td>0.056024</td>\n",
       "      <td>0.640131</td>\n",
       "    </tr>\n",
       "    <tr>\n",
       "      <th>3</th>\n",
       "      <td>20240915</td>\n",
       "      <td>2024-08-01</td>\n",
       "      <td>0.056024</td>\n",
       "      <td>0.640131</td>\n",
       "    </tr>\n",
       "    <tr>\n",
       "      <th>4</th>\n",
       "      <td>20240915</td>\n",
       "      <td>2024-08-01</td>\n",
       "      <td>0.056024</td>\n",
       "      <td>0.640131</td>\n",
       "    </tr>\n",
       "    <tr>\n",
       "      <th>5</th>\n",
       "      <td>20240915</td>\n",
       "      <td>2024-08-01</td>\n",
       "      <td>0.056024</td>\n",
       "      <td>0.640131</td>\n",
       "    </tr>\n",
       "    <tr>\n",
       "      <th>6</th>\n",
       "      <td>20240915</td>\n",
       "      <td>2024-08-01</td>\n",
       "      <td>0.056024</td>\n",
       "      <td>0.640131</td>\n",
       "    </tr>\n",
       "    <tr>\n",
       "      <th>7</th>\n",
       "      <td>20240915</td>\n",
       "      <td>2024-08-01</td>\n",
       "      <td>0.056024</td>\n",
       "      <td>0.640131</td>\n",
       "    </tr>\n",
       "  </tbody>\n",
       "</table>\n",
       "</div>"
      ],
      "text/plain": [
       "       Date   Pred Date  Forecast Pred       MAE\n",
       "0  20240701  2024-06-01       0.583043  0.584990\n",
       "1  20240801  2024-07-01       0.953691  0.622643\n",
       "2  20240901  2024-08-01       0.056024  0.640131\n",
       "3  20240915  2024-08-01       0.056024  0.640131\n",
       "4  20240915  2024-08-01       0.056024  0.640131\n",
       "5  20240915  2024-08-01       0.056024  0.640131\n",
       "6  20240915  2024-08-01       0.056024  0.640131\n",
       "7  20240915  2024-08-01       0.056024  0.640131"
      ]
     },
     "execution_count": 38,
     "metadata": {},
     "output_type": "execute_result"
    }
   ],
   "source": [
    "current_metrics"
   ]
  },
  {
   "cell_type": "code",
   "execution_count": 32,
   "metadata": {},
   "outputs": [],
   "source": [
    "current_metrics = pd.read_csv(f'{script_dir}/../output_data/model_metrics.csv')\n",
    "current_metrics = current_metrics[['Pred Date','Forecast Pred']]\n",
    "current_metrics.rename(columns={'Pred Date':'Date'},inplace=True)\n"
   ]
  },
  {
   "cell_type": "code",
   "execution_count": 34,
   "metadata": {},
   "outputs": [
    {
     "data": {
      "text/html": [
       "<div>\n",
       "<style scoped>\n",
       "    .dataframe tbody tr th:only-of-type {\n",
       "        vertical-align: middle;\n",
       "    }\n",
       "\n",
       "    .dataframe tbody tr th {\n",
       "        vertical-align: top;\n",
       "    }\n",
       "\n",
       "    .dataframe thead th {\n",
       "        text-align: right;\n",
       "    }\n",
       "</style>\n",
       "<table border=\"1\" class=\"dataframe\">\n",
       "  <thead>\n",
       "    <tr style=\"text-align: right;\">\n",
       "      <th></th>\n",
       "      <th>Date</th>\n",
       "      <th>Forecast Pred</th>\n",
       "      <th>Redfin HPI MoM</th>\n",
       "    </tr>\n",
       "  </thead>\n",
       "  <tbody>\n",
       "    <tr>\n",
       "      <th>0</th>\n",
       "      <td>2024-06-01</td>\n",
       "      <td>0.583043</td>\n",
       "      <td>0.390000</td>\n",
       "    </tr>\n",
       "    <tr>\n",
       "      <th>1</th>\n",
       "      <td>2024-07-01</td>\n",
       "      <td>0.953691</td>\n",
       "      <td>0.380000</td>\n",
       "    </tr>\n",
       "    <tr>\n",
       "      <th>2</th>\n",
       "      <td>2024-07-01</td>\n",
       "      <td>0.953691</td>\n",
       "      <td>0.380000</td>\n",
       "    </tr>\n",
       "    <tr>\n",
       "      <th>3</th>\n",
       "      <td>2024-08-01</td>\n",
       "      <td>0.056024</td>\n",
       "      <td>0.056024</td>\n",
       "    </tr>\n",
       "  </tbody>\n",
       "</table>\n",
       "</div>"
      ],
      "text/plain": [
       "         Date  Forecast Pred  Redfin HPI MoM\n",
       "0  2024-06-01       0.583043        0.390000\n",
       "1  2024-07-01       0.953691        0.380000\n",
       "2  2024-07-01       0.953691        0.380000\n",
       "3  2024-08-01       0.056024        0.056024"
      ]
     },
     "execution_count": 34,
     "metadata": {},
     "output_type": "execute_result"
    }
   ],
   "source": [
    "current_metrics.merge(output[['Date','Redfin HPI MoM']],on='Date',how='left')"
   ]
  },
  {
   "cell_type": "code",
   "execution_count": 22,
   "metadata": {},
   "outputs": [
    {
     "data": {
      "text/html": [
       "<div>\n",
       "<style scoped>\n",
       "    .dataframe tbody tr th:only-of-type {\n",
       "        vertical-align: middle;\n",
       "    }\n",
       "\n",
       "    .dataframe tbody tr th {\n",
       "        vertical-align: top;\n",
       "    }\n",
       "\n",
       "    .dataframe thead th {\n",
       "        text-align: right;\n",
       "    }\n",
       "</style>\n",
       "<table border=\"1\" class=\"dataframe\">\n",
       "  <thead>\n",
       "    <tr style=\"text-align: right;\">\n",
       "      <th></th>\n",
       "      <th>Date</th>\n",
       "      <th>Redfin HPI MoM</th>\n",
       "      <th>Type</th>\n",
       "    </tr>\n",
       "  </thead>\n",
       "  <tbody>\n",
       "    <tr>\n",
       "      <th>0</th>\n",
       "      <td>2012-04-01</td>\n",
       "      <td>1.730000</td>\n",
       "      <td>Series</td>\n",
       "    </tr>\n",
       "    <tr>\n",
       "      <th>1</th>\n",
       "      <td>2012-05-01</td>\n",
       "      <td>1.560000</td>\n",
       "      <td>Series</td>\n",
       "    </tr>\n",
       "    <tr>\n",
       "      <th>2</th>\n",
       "      <td>2012-06-01</td>\n",
       "      <td>1.930000</td>\n",
       "      <td>Series</td>\n",
       "    </tr>\n",
       "    <tr>\n",
       "      <th>3</th>\n",
       "      <td>2012-07-01</td>\n",
       "      <td>0.880000</td>\n",
       "      <td>Series</td>\n",
       "    </tr>\n",
       "    <tr>\n",
       "      <th>4</th>\n",
       "      <td>2012-08-01</td>\n",
       "      <td>1.470000</td>\n",
       "      <td>Series</td>\n",
       "    </tr>\n",
       "    <tr>\n",
       "      <th>...</th>\n",
       "      <td>...</td>\n",
       "      <td>...</td>\n",
       "      <td>...</td>\n",
       "    </tr>\n",
       "    <tr>\n",
       "      <th>147</th>\n",
       "      <td>2024-07-01</td>\n",
       "      <td>0.380000</td>\n",
       "      <td>Series</td>\n",
       "    </tr>\n",
       "    <tr>\n",
       "      <th>148</th>\n",
       "      <td>2024-07-01</td>\n",
       "      <td>0.380000</td>\n",
       "      <td>Forecast</td>\n",
       "    </tr>\n",
       "    <tr>\n",
       "      <th>149</th>\n",
       "      <td>2024-08-01</td>\n",
       "      <td>0.056024</td>\n",
       "      <td>Forecast</td>\n",
       "    </tr>\n",
       "    <tr>\n",
       "      <th>150</th>\n",
       "      <td>2024-09-01</td>\n",
       "      <td>0.541787</td>\n",
       "      <td>Forecast</td>\n",
       "    </tr>\n",
       "    <tr>\n",
       "      <th>151</th>\n",
       "      <td>2024-10-01</td>\n",
       "      <td>0.458569</td>\n",
       "      <td>Forecast</td>\n",
       "    </tr>\n",
       "  </tbody>\n",
       "</table>\n",
       "<p>152 rows × 3 columns</p>\n",
       "</div>"
      ],
      "text/plain": [
       "           Date  Redfin HPI MoM      Type\n",
       "0    2012-04-01        1.730000    Series\n",
       "1    2012-05-01        1.560000    Series\n",
       "2    2012-06-01        1.930000    Series\n",
       "3    2012-07-01        0.880000    Series\n",
       "4    2012-08-01        1.470000    Series\n",
       "..          ...             ...       ...\n",
       "147  2024-07-01        0.380000    Series\n",
       "148  2024-07-01        0.380000  Forecast\n",
       "149  2024-08-01        0.056024  Forecast\n",
       "150  2024-09-01        0.541787  Forecast\n",
       "151  2024-10-01        0.458569  Forecast\n",
       "\n",
       "[152 rows x 3 columns]"
      ]
     },
     "execution_count": 22,
     "metadata": {},
     "output_type": "execute_result"
    }
   ],
   "source": [
    "output"
   ]
  },
  {
   "cell_type": "code",
   "execution_count": 70,
   "metadata": {},
   "outputs": [],
   "source": [
    "with open(f'{script_dir}/../README.md', 'r') as file:\n",
    "        readme_lines = file.readlines()"
   ]
  },
  {
   "cell_type": "code",
   "execution_count": 71,
   "metadata": {},
   "outputs": [],
   "source": [
    "plots = glob.glob(f'{script_dir}/../forecast_plots/*forecast*')\n",
    "plots = sorted([x for x in plots if 'zoomed' not in x])\n",
    "zoomed_plots = sorted(glob.glob(f'{script_dir}/../forecast_plots/*zoomed*'))"
   ]
  },
  {
   "cell_type": "code",
   "execution_count": 72,
   "metadata": {},
   "outputs": [],
   "source": [
    "latest_zoomed = zoomed_plots[-1].split('../')[1]\n",
    "latest_normal = plots[-1].split('../')[1]"
   ]
  },
  {
   "cell_type": "code",
   "execution_count": 73,
   "metadata": {},
   "outputs": [
    {
     "data": {
      "text/plain": [
       "'forecast_plots/20240901_forecast.png'"
      ]
     },
     "execution_count": 73,
     "metadata": {},
     "output_type": "execute_result"
    }
   ],
   "source": [
    "latest_normal"
   ]
  },
  {
   "cell_type": "code",
   "execution_count": 74,
   "metadata": {},
   "outputs": [],
   "source": [
    "for i, line in enumerate(readme_lines):\n",
    "    if '![alt text]' in line:\n",
    "        if 'zoomed' in line:\n",
    "            new_line = f'![alt text]({latest_zoomed})\\n'\n",
    "            readme_lines[i] = new_line\n",
    "        elif 'forecast.png' in line:\n",
    "            new_line = f'![alt text]({latest_normal})\\n'\n",
    "            readme_lines[i] = new_line\n",
    "        else:\n",
    "            continue"
   ]
  },
  {
   "cell_type": "code",
   "execution_count": 75,
   "metadata": {},
   "outputs": [
    {
     "data": {
      "text/plain": [
       "[\"# Forecasting Redfin's Housing Price Index In Los Angeles\\n\",\n",
       " '\\n',\n",
       " '### Background\\n',\n",
       " '\\n',\n",
       " 'In 2023, Redfin released their Housing Price Index, which uses the repeat sales pricing method to measure changes in U.S home prices. More information about the index can be found at - https://www.redfin.com/news/redfin-home-price-index/. They release their index monthly, with about a 2 month lag. In this project, I use various time series forecasting methods to forecast their index into the future, allowing interested parties such as real estate professionals, buyers, sellers, and financial institutions to look ahead at what is coming in the housing market. \\n',\n",
       " '\\n',\n",
       " 'I decided to perform this analysis only on the Los Angeles Area to keep my analysis more focused. \\n',\n",
       " '\\n',\n",
       " '![alt text](forecast_plots/original_series.png)\\n',\n",
       " '\\n',\n",
       " '### Methods and Data\\n',\n",
       " '\\n',\n",
       " 'To forecast this time series, I tried using both arima methods and vector autoregression methods. Ultimately, the vector autoregression results gave the better forecasts. \\n',\n",
       " '\\n',\n",
       " 'Input features to the vector autoregression included: \\n',\n",
       " '\\n',\n",
       " '* Median List Price MoM\\n',\n",
       " '* Median Price Per Sqaure Foot MoM\\n',\n",
       " '* Median List Price Per Sqaure Foot MoM\\n',\n",
       " '* Sold above List MoM\\n',\n",
       " '* Avg Sale to List MoM\\n',\n",
       " '* Mortgage Rate (National 30 yr fixed) \\n',\n",
       " '* Unemployment Rate in Los Angeles\\n',\n",
       " '\\n',\n",
       " '### Results\\n',\n",
       " '\\n',\n",
       " '![alt text](forecast_plots/20240901_forecast.png)\\n',\n",
       " '\\n',\n",
       " '\\n',\n",
       " 'Here is a more zoomed in look:\\n',\n",
       " '\\n',\n",
       " '![alt text](forecast_plots/20241001_zoomed_forecast.png)\\n',\n",
       " '\\n',\n",
       " '\\n',\n",
       " 'Model Performance:\\n',\n",
       " '\\n',\n",
       " 'MAE on Test Set = 0.548\\n',\n",
       " '\\n',\n",
       " '### Next Steps\\n',\n",
       " '\\n',\n",
       " '* Formalize evaluation scripts\\n',\n",
       " '* Display Results in Tableau Dashboard\\n',\n",
       " '* Use Github Actions to create CI/CD pipeline to automatically retrain model and publish new model ']"
      ]
     },
     "execution_count": 75,
     "metadata": {},
     "output_type": "execute_result"
    }
   ],
   "source": [
    "readme_lines"
   ]
  },
  {
   "cell_type": "code",
   "execution_count": 4,
   "metadata": {},
   "outputs": [
    {
     "data": {
      "text/plain": [
       "[\"# Forecasting Redfin's Housing Price Index In Los Angeles\\n\",\n",
       " '\\n',\n",
       " '### Background\\n',\n",
       " '\\n',\n",
       " 'In 2023, Redfin released their Housing Price Index, which uses the repeat sales pricing method to measure changes in U.S home prices. More information about the index can be found at - https://www.redfin.com/news/redfin-home-price-index/. They release their index monthly, with about a 2 month lag. In this project, I use various time series forecasting methods to forecast their index into the future, allowing interested parties such as real estate professionals, buyers, sellers, and financial institutions to look ahead at what is coming in the housing market. \\n',\n",
       " '\\n',\n",
       " 'I decided to perform this analysis only on the Los Angeles Area to keep my analysis more focused. \\n',\n",
       " '\\n',\n",
       " '![alt text](forecast_plots/original_series.png)\\n',\n",
       " '\\n',\n",
       " '### Methods and Data\\n',\n",
       " '\\n',\n",
       " 'To forecast this time series, I tried using both arima methods and vector autoregression methods. Ultimately, the vector autoregression results gave the better forecasts. \\n',\n",
       " '\\n',\n",
       " 'Input features to the vector autoregression included: \\n',\n",
       " '\\n',\n",
       " '* Median List Price MoM\\n',\n",
       " '* Median Price Per Sqaure Foot MoM\\n',\n",
       " '* Median List Pripce Per Sqaure Foot MoM\\n',\n",
       " '* Sold above List MoM\\n',\n",
       " '* Avg Sale to List MoM\\n',\n",
       " '* Mortgage Rate (National 30 yr fixed) \\n',\n",
       " '* Unemployment Rate in Los Angeles\\n',\n",
       " '\\n',\n",
       " '### Results\\n',\n",
       " '\\n',\n",
       " '![alt text](forecast_plots/20240901_forecast.png)\\n',\n",
       " '\\n',\n",
       " '\\n',\n",
       " 'Here is a more zoomed in look:\\n',\n",
       " '\\n',\n",
       " '![alt text](forecast_plots/20240901_zoomed_forecast.png)\\n',\n",
       " '\\n',\n",
       " '\\n',\n",
       " 'Model Performance:\\n',\n",
       " '\\n',\n",
       " 'MAE on Test Set = 0.548\\n',\n",
       " '\\n',\n",
       " '### Next Steps\\n',\n",
       " '\\n',\n",
       " '* Formalize evaluation scripts\\n',\n",
       " '* Display Results in Tableau Dashboard\\n',\n",
       " '* Use Github Actions to create CI/CD pipeline to automatically retrain model and publish new model ']"
      ]
     },
     "execution_count": 4,
     "metadata": {},
     "output_type": "execute_result"
    }
   ],
   "source": [
    "readme_lines"
   ]
  }
 ],
 "metadata": {
  "kernelspec": {
   "display_name": "datasci",
   "language": "python",
   "name": "python3"
  },
  "language_info": {
   "codemirror_mode": {
    "name": "ipython",
    "version": 3
   },
   "file_extension": ".py",
   "mimetype": "text/x-python",
   "name": "python",
   "nbconvert_exporter": "python",
   "pygments_lexer": "ipython3",
   "version": "3.9.13"
  }
 },
 "nbformat": 4,
 "nbformat_minor": 2
}
